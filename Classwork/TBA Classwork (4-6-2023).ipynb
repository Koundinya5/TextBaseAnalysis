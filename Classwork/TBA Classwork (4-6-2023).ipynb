{
 "cells": [
  {
   "cell_type": "markdown",
   "id": "0d6fbc90",
   "metadata": {},
   "source": [
    "# String Operations"
   ]
  },
  {
   "cell_type": "code",
   "execution_count": 1,
   "id": "c55c1e26",
   "metadata": {},
   "outputs": [
    {
     "name": "stdout",
     "output_type": "stream",
     "text": [
      "hello\n"
     ]
    }
   ],
   "source": [
    "a = \"hello\"\n",
    "print(a)"
   ]
  },
  {
   "cell_type": "code",
   "execution_count": 2,
   "id": "c9b7b4ac",
   "metadata": {},
   "outputs": [
    {
     "name": "stdout",
     "output_type": "stream",
     "text": [
      "llo\n"
     ]
    }
   ],
   "source": [
    "#Accessing individual letters\n",
    "a = \"Hello, World!\"\n",
    "print(a[2:5])"
   ]
  },
  {
   "cell_type": "markdown",
   "id": "e1e87972",
   "metadata": {},
   "source": [
    "# Concatination"
   ]
  },
  {
   "cell_type": "code",
   "execution_count": 3,
   "id": "4409ac8e",
   "metadata": {},
   "outputs": [
    {
     "name": "stdout",
     "output_type": "stream",
     "text": [
      "Hello World\n"
     ]
    }
   ],
   "source": [
    "a = \"Hello\"\n",
    "b = \"World\"\n",
    "c = a+\" \"+b #Combines the strings with a space\n",
    "print(c)"
   ]
  },
  {
   "cell_type": "markdown",
   "id": "d9baaf62",
   "metadata": {},
   "source": [
    "# String Methods "
   ]
  },
  {
   "cell_type": "code",
   "execution_count": 4,
   "id": "ee565ad2",
   "metadata": {},
   "outputs": [
    {
     "name": "stdout",
     "output_type": "stream",
     "text": [
      "False\n"
     ]
    }
   ],
   "source": [
    "a = \"Hello\"\n",
    "print(a.islower())# returns false if any letter of the string is in upper cases\n"
   ]
  },
  {
   "cell_type": "code",
   "execution_count": 19,
   "id": "18a98779",
   "metadata": {},
   "outputs": [
    {
     "name": "stdout",
     "output_type": "stream",
     "text": [
      "Are you ok?\n"
     ]
    }
   ],
   "source": [
    "a = \"-------Are you ok?\"\n",
    "print(a.strip(\"-\"))#removes the '-' before the string"
   ]
  },
  {
   "cell_type": "code",
   "execution_count": 22,
   "id": "5de9410e",
   "metadata": {},
   "outputs": [
    {
     "name": "stdout",
     "output_type": "stream",
     "text": [
      "False\n"
     ]
    }
   ],
   "source": [
    "a = \"Is everyone ok!\"\n",
    "print(a.endswith(\"ok?\"))# returns true if the specified substring matches with the given string"
   ]
  },
  {
   "cell_type": "code",
   "execution_count": 24,
   "id": "e6462697",
   "metadata": {},
   "outputs": [
    {
     "name": "stdout",
     "output_type": "stream",
     "text": [
      "True\n"
     ]
    }
   ],
   "source": [
    "a = \"The solar eclipse is closing in\"\n",
    "print(a.startswith(\"The\"))# returns false if the specified substring doesnot match with the given string"
   ]
  },
  {
   "cell_type": "code",
   "execution_count": 27,
   "id": "297b6498",
   "metadata": {},
   "outputs": [
    {
     "name": "stdout",
     "output_type": "stream",
     "text": [
      "The lunar eclipse is closing in\n"
     ]
    }
   ],
   "source": [
    "a = \"The solar eclipse is closing in\"\n",
    "b = a.replace(\"solar\", \"lunar\")\n",
    "print(b)# replaces the original substring with the new substring"
   ]
  },
  {
   "cell_type": "code",
   "execution_count": 7,
   "id": "75f73793",
   "metadata": {},
   "outputs": [
    {
     "name": "stdout",
     "output_type": "stream",
     "text": [
      "koundinya* *koundinya koundinya\n"
     ]
    }
   ],
   "source": [
    "#lstrip() removes the character in the string \n",
    "#rstrip() removes the right side character of the string\n",
    "#lstring() removes the left side charcater of the string\n",
    "a=\"*koundinya*\"\n",
    "print(a.lstrip(\"*\"),a.rstrip(\"*\"),a.strip(\"*\"))"
   ]
  },
  {
   "cell_type": "code",
   "execution_count": 31,
   "id": "0cefaed3",
   "metadata": {},
   "outputs": [
    {
     "data": {
      "text/plain": [
       "['one', 'two', 'three', 'four', 'five', 'six', 'seven', 'eight', 'nine']"
      ]
     },
     "execution_count": 31,
     "metadata": {},
     "output_type": "execute_result"
    }
   ],
   "source": [
    "X = \"one+two+three+four+five+six+seven+eight+nine\"\n",
    "values = X.split(\"+\")#splits the string with the specified delimiter\n",
    "values"
   ]
  },
  {
   "cell_type": "markdown",
   "id": "a3abe9fd",
   "metadata": {},
   "source": [
    "# Regex"
   ]
  },
  {
   "cell_type": "code",
   "execution_count": 35,
   "id": "12d689d5",
   "metadata": {},
   "outputs": [
    {
     "data": {
      "text/plain": [
       "['45abc']"
      ]
     },
     "execution_count": 35,
     "metadata": {},
     "output_type": "execute_result"
    }
   ],
   "source": [
    "#Tokenizes input text by finding all non-overlapping occurrences of '45abc'\n",
    "import regex as re\n",
    "def tokenize(text):\n",
    "    return re.findall(r'45abc', text)\n",
    "x = tokenize(\"abcd 45abc abc% abc.com acbrx .=.abc.=. ab c cba ABC \")\n",
    "x"
   ]
  },
  {
   "cell_type": "code",
   "execution_count": 6,
   "id": "d161e9dd",
   "metadata": {},
   "outputs": [
    {
     "data": {
      "text/plain": [
       "['moody', 'roody', 'ooudy']"
      ]
     },
     "execution_count": 6,
     "metadata": {},
     "output_type": "execute_result"
    }
   ],
   "source": [
    "# Returns a list of substrings matching the pattern: character, 'o', any character, 'dy'.\n",
    "import regex as re\n",
    "def tokenize(text):\n",
    "    return re.findall(r'.o.dy', text)\n",
    "x = tokenize(\" abcd gooey moody broody goofy gummy mooooudy loopy ooy \")\n",
    "x"
   ]
  },
  {
   "cell_type": "code",
   "execution_count": 5,
   "id": "e806c2d7",
   "metadata": {},
   "outputs": [
    {
     "data": {
      "text/plain": [
       "['abc.abc.com', 'abc.abc,com']"
      ]
     },
     "execution_count": 5,
     "metadata": {},
     "output_type": "execute_result"
    }
   ],
   "source": [
    "#Tokenizes input text by finding all non-overlapping occurrences of 'abc'\n",
    "import regex as re\n",
    "def tokenize(text):\n",
    "    return re.findall(r'abc\\.abc.com', text)\n",
    "x = tokenize(\"abc.abc.com abc.abc,com abc,abc.com ABC.abc.com \")\n",
    "x"
   ]
  },
  {
   "cell_type": "code",
   "execution_count": 45,
   "id": "d8668af6",
   "metadata": {},
   "outputs": [
    {
     "name": "stdout",
     "output_type": "stream",
     "text": [
      "['Homer Simpson', 'Marge Simpson']\n",
      "['Homer', 'Marge']\n"
     ]
    }
   ],
   "source": [
    "import regex as re\n",
    "def tokenize1(text):\n",
    "    return re.findall(r'Homer Simpson|Marge Simpson', text)\n",
    "def tokenize2(text):\n",
    "    return re.findall(r'(Homer|Marge) Simpson', text)\n",
    "x = tokenize1(\"Homer Williams Homer Simpson Marge Simpson\")\n",
    "print(x)\n",
    "x = tokenize2(\"Homer Williams Homer Simpson Marge Simpson\")\n",
    "print(x)"
   ]
  },
  {
   "cell_type": "code",
   "execution_count": null,
   "id": "41dd5794",
   "metadata": {},
   "outputs": [],
   "source": []
  }
 ],
 "metadata": {
  "kernelspec": {
   "display_name": "Python 3 (ipykernel)",
   "language": "python",
   "name": "python3"
  },
  "language_info": {
   "codemirror_mode": {
    "name": "ipython",
    "version": 3
   },
   "file_extension": ".py",
   "mimetype": "text/x-python",
   "name": "python",
   "nbconvert_exporter": "python",
   "pygments_lexer": "ipython3",
   "version": "3.11.5"
  }
 },
 "nbformat": 4,
 "nbformat_minor": 5
}
