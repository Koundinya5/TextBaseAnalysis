{
 "cells": [
  {
   "cell_type": "markdown",
   "id": "9c2cfc0e",
   "metadata": {},
   "source": [
    "# Assignment 1\n",
    "\n",
    "# Python Strings\n",
    "Basically in python,the strings should be given in either '' or \"\" annotations."
   ]
  },
  {
   "cell_type": "code",
   "execution_count": 4,
   "id": "556144aa",
   "metadata": {},
   "outputs": [
    {
     "name": "stdout",
     "output_type": "stream",
     "text": [
      "arjun\n",
      "kishore\n"
     ]
    }
   ],
   "source": [
    "#indexing Strings in either '' or \"\"\n",
    "a = 'arjun'\n",
    "b = \"kishore\"\n",
    "print(a)\n",
    "print(b)"
   ]
  },
  {
   "cell_type": "markdown",
   "id": "5312e518",
   "metadata": {},
   "source": [
    "# Types of String Operations in Python"
   ]
  },
  {
   "cell_type": "markdown",
   "id": "8b906121",
   "metadata": {},
   "source": [
    "# 1. Indexing and Slicing\n",
    "Strings may be of a single character or a sequence of characters. They can be accessed with the help of their index. The indexing in the python starts from 0. The index should be represented in ([]). By indexing a range of indexes we can perform slicing and extract a substring. "
   ]
  },
  {
   "cell_type": "code",
   "execution_count": 15,
   "id": "d6bd20a0",
   "metadata": {},
   "outputs": [
    {
     "name": "stdout",
     "output_type": "stream",
     "text": [
      "P\n",
      "Piece\n"
     ]
    }
   ],
   "source": [
    "a = \"One Piece\"\n",
    "print(a[4])\n",
    "#The space between the strings is also indexed, it also should make sure off while extracting a substring\n",
    "print(a[4:9])"
   ]
  },
  {
   "cell_type": "markdown",
   "id": "629b8798",
   "metadata": {},
   "source": [
    "# 2. Concatenation\n",
    "By using this string opration we can combine two or more strings together."
   ]
  },
  {
   "cell_type": "code",
   "execution_count": 14,
   "id": "55b892ae",
   "metadata": {},
   "outputs": [
    {
     "name": "stdout",
     "output_type": "stream",
     "text": [
      "Oru Wa Monkey D Luffy kaizoku ou ni orewa naru\n"
     ]
    }
   ],
   "source": [
    "a = 'Oru Wa Monkey D Luffy'\n",
    "b = \"kaizoku ou ni orewa naru\"\n",
    "c = a+ \" \"+ b\n",
    "#Here \" \" annotation creates a space between the two strings.\n",
    "print(c)"
   ]
  },
  {
   "cell_type": "markdown",
   "id": "471a99c5",
   "metadata": {},
   "source": [
    "# 3. Length\n",
    "We can determine the length of the string with the help of len() function"
   ]
  },
  {
   "cell_type": "code",
   "execution_count": 18,
   "id": "e60758a0",
   "metadata": {},
   "outputs": [
    {
     "name": "stdout",
     "output_type": "stream",
     "text": [
      "16\n"
     ]
    }
   ],
   "source": [
    "a = \"Red hair pirates\"\n",
    "# It also add the blank spaces in between the strings.\n",
    "print(len(a))"
   ]
  },
  {
   "cell_type": "markdown",
   "id": "eee0bcb7",
   "metadata": {},
   "source": [
    "# 4. Formatting\n",
    "It helps in creating dynamic strings with placeholders replaced by values."
   ]
  },
  {
   "cell_type": "code",
   "execution_count": 19,
   "id": "5e16a586",
   "metadata": {},
   "outputs": [
    {
     "name": "stdout",
     "output_type": "stream",
     "text": [
      "My name is akagami no shanks and I am captain of the ship\n"
     ]
    }
   ],
   "source": [
    "name = 'akagami no shanks'\n",
    "role = \"captain\"\n",
    "print(\"My name is {} and I am {} of the ship\".format(name, role))"
   ]
  },
  {
   "cell_type": "code",
   "execution_count": 20,
   "id": "ca9d3dd3",
   "metadata": {},
   "outputs": [
    {
     "name": "stdout",
     "output_type": "stream",
     "text": [
      "My name is Roronoa Zoro and I am swordsman of the ship\n"
     ]
    }
   ],
   "source": [
    "name = 'Roronoa Zoro'\n",
    "role = \"swordsman\"\n",
    "print(f\"My name is {name} and I am {role} of the ship\".format(name, role))"
   ]
  },
  {
   "cell_type": "markdown",
   "id": "3f54c10c",
   "metadata": {},
   "source": [
    "# 5. Checking substrings\n",
    "By using the in operator we can check if the substring exists within the string"
   ]
  },
  {
   "cell_type": "code",
   "execution_count": 24,
   "id": "146cbfb0",
   "metadata": {},
   "outputs": [
    {
     "name": "stdout",
     "output_type": "stream",
     "text": [
      "True\n"
     ]
    }
   ],
   "source": [
    "a = \"It's the dangerous color of the supreme king haki\"\n",
    "#returns true if the string contains the substring or else returns false\n",
    "print(\"haki\" in a)"
   ]
  },
  {
   "cell_type": "markdown",
   "id": "a2cf8d88",
   "metadata": {},
   "source": [
    "# 6. Spliting\n",
    "Based on the delimiter, the 'split()' method seperates the strings into substrings"
   ]
  },
  {
   "cell_type": "code",
   "execution_count": 26,
   "id": "83eacba4",
   "metadata": {},
   "outputs": [
    {
     "name": "stdout",
     "output_type": "stream",
     "text": [
      "['The', 'hunt', 'for', 'the', 'one', 'piece', 'is', 'on']\n"
     ]
    }
   ],
   "source": [
    "a = \"The hunt for the one piece is on\"\n",
    "#if no delimiter is specified, the method seperates the string by the blank space between them\n",
    "new = a.split()\n",
    "print(new)"
   ]
  },
  {
   "cell_type": "code",
   "execution_count": 28,
   "id": "22c6623c",
   "metadata": {},
   "outputs": [
    {
     "name": "stdout",
     "output_type": "stream",
     "text": [
      "['1', '2', '3', '4', '5', '6', '7', '8', '9', '10']\n"
     ]
    }
   ],
   "source": [
    "b = \"1;2;3;4;5;6;7;8;9;10\"\n",
    "#The delimiter can be anything like ; or , etc. \n",
    "new = b.split(\";\")\n",
    "print(new)"
   ]
  },
  {
   "cell_type": "markdown",
   "id": "32ed0bf0",
   "metadata": {},
   "source": [
    "# Some more string methods that are not practiced in class"
   ]
  },
  {
   "cell_type": "code",
   "execution_count": 31,
   "id": "b13ab66d",
   "metadata": {},
   "outputs": [
    {
     "name": "stdout",
     "output_type": "stream",
     "text": [
      "King of the pirates\n"
     ]
    }
   ],
   "source": [
    "#The 'capitalize()' method changes the first letter of the string into capital and all the other letters into lower case.\n",
    "a = \"KING OF THE PIRATES\"\n",
    "print(a.capitalize())"
   ]
  },
  {
   "cell_type": "code",
   "execution_count": 34,
   "id": "17f522ed",
   "metadata": {},
   "outputs": [
    {
     "name": "stdout",
     "output_type": "stream",
     "text": [
      "The strongest man is the whitebeard\n"
     ]
    }
   ],
   "source": [
    "#The 'join(iterable)' joins the elements of the list into a single string\n",
    "a = [\"The\", \"strongest\", \"man\", \"is\", \"the\", \"whitebeard\"]\n",
    "new = \" \".join(a)\n",
    "print(new)"
   ]
  },
  {
   "cell_type": "code",
   "execution_count": 36,
   "id": "19b2e482",
   "metadata": {},
   "outputs": [
    {
     "name": "stdout",
     "output_type": "stream",
     "text": [
      "('The ', 'haki', ' is so immense')\n"
     ]
    }
   ],
   "source": [
    "#The 'partition(seperator)' parts the string into a tuple containing the part before the seperator, the seperator itself and the part after it.\n",
    "a = \"The haki is so immense\"\n",
    "print(a.partition(\"haki\"))"
   ]
  },
  {
   "cell_type": "code",
   "execution_count": 38,
   "id": "63a3de04",
   "metadata": {},
   "outputs": [
    {
     "name": "stdout",
     "output_type": "stream",
     "text": [
      "4\n"
     ]
    }
   ],
   "source": [
    "#The 'count(substring)' it gives the number of occurences of the specified substring from the given string.\n",
    "a = \"Assessment\"\n",
    "print(a.count(\"s\"))"
   ]
  },
  {
   "cell_type": "code",
   "execution_count": 42,
   "id": "7d8a3860",
   "metadata": {},
   "outputs": [
    {
     "name": "stdout",
     "output_type": "stream",
     "text": [
      "7\n"
     ]
    }
   ],
   "source": [
    "#The 'find(substring)' finds the specified substring and returns the lowest index of the specified substring from the given string.\n",
    "a = \"All is well\"\n",
    "print(a.find(\"well\"))"
   ]
  },
  {
   "cell_type": "markdown",
   "id": "cf44e6d2",
   "metadata": {},
   "source": [
    "# Regular Expressions or Regex\n",
    "\n",
    "For pattern matching within strings, regular expressions also known as regex or regexp are effective tools. Regular expressions can be used successfully only because of the developed re module. These patterns enable intricate matches, searches, and manipulations according to particular standards. '\\d' to match digits, '\\s' to match whitespace, and '^' and '$' to indicate the beginning and end of a string,and these are examples of common regex symbols and sequences that are used to match any character except newline. Many activities, including input validation, particular information extraction from text, and search-and-replace operations, can be accomplished with regex patterns. Python can handle text processing jobs effectively by using regular expressions, which makes it a powerful tool for tasks like data validation, text parsing, and string manipulation."
   ]
  },
  {
   "cell_type": "markdown",
   "id": "0a346c18",
   "metadata": {},
   "source": [
    "# Regex 1 "
   ]
  },
  {
   "cell_type": "code",
   "execution_count": 44,
   "id": "6af1c2f2",
   "metadata": {},
   "outputs": [
    {
     "name": "stdout",
     "output_type": "stream",
     "text": [
      "Dates found:\n",
      "('04', '19')\n",
      "('07', '14')\n"
     ]
    }
   ],
   "source": [
    "#It extracts the dates in MM/DD/YY format\n",
    "import re\n",
    "\n",
    "text = \"Meeting scheduled for 04/19/2024 and event on 07/14/2024.\"\n",
    "\n",
    "pattern = r'\\b(0[1-9]|1[0-2])/(0[1-9]|[12]\\d|3[01])/\\d{4}\\b'\n",
    "\n",
    "matches = re.findall(pattern, text)\n",
    "\n",
    "print(\"Dates found:\")\n",
    "for match in matches:\n",
    "    print(match)\n"
   ]
  },
  {
   "cell_type": "markdown",
   "id": "36db13e1",
   "metadata": {},
   "source": [
    "# Regex 2 "
   ]
  },
  {
   "cell_type": "code",
   "execution_count": 52,
   "id": "a6f7d9e8",
   "metadata": {},
   "outputs": [
    {
     "name": "stdout",
     "output_type": "stream",
     "text": [
      "Twitter Usernames found:\n",
      "josephwinchester666\n"
     ]
    }
   ],
   "source": [
    "#It extracts twitter usernames\n",
    "import re\n",
    "\n",
    "text = \"Follow @josephwinchester666 for updates.\"\n",
    "\n",
    "pattern = r'@([A-Za-z0-9_]+)'\n",
    "\n",
    "matches = re.findall(pattern, text)\n",
    "\n",
    "print(\"Twitter Usernames found:\")\n",
    "for match in matches:\n",
    "    print(match)\n",
    "\n"
   ]
  },
  {
   "cell_type": "markdown",
   "id": "d4951324",
   "metadata": {},
   "source": [
    "# Regex 3"
   ]
  },
  {
   "cell_type": "code",
   "execution_count": 50,
   "id": "fb6acb25",
   "metadata": {},
   "outputs": [
    {
     "name": "stdout",
     "output_type": "stream",
     "text": [
      "Social Security Numbers found:\n",
      "123-45-6789\n"
     ]
    }
   ],
   "source": [
    "#Matching Social Security Number\n",
    "import re\n",
    "\n",
    "text = \"My SSN is 123-45-6789.\"\n",
    "\n",
    "pattern = r'\\d{3}-\\d{2}-\\d{4}'\n",
    "\n",
    "matches = re.findall(pattern, text)\n",
    "\n",
    "print(\"Social Security Numbers found:\")\n",
    "for match in matches:\n",
    "    print(match)\n",
    "\n"
   ]
  },
  {
   "cell_type": "markdown",
   "id": "ec469d5a",
   "metadata": {},
   "source": [
    "# Regex 4"
   ]
  },
  {
   "cell_type": "code",
   "execution_count": 48,
   "id": "88834d01",
   "metadata": {},
   "outputs": [
    {
     "name": "stdout",
     "output_type": "stream",
     "text": [
      "HTML comments found:\n",
      "<!-- This is a void case -->\n",
      "<!-- Error 404 -->\n"
     ]
    }
   ],
   "source": [
    "#Matching HTML comments\n",
    "import re\n",
    "\n",
    "html = \"\"\"\n",
    "<!-- This is a void case -->\n",
    "<p>This is a paragraph.</p>\n",
    "<!-- Error 404 -->\n",
    "\"\"\"\n",
    "\n",
    "pattern = r'<!--.*?-->'\n",
    "\n",
    "matches = re.findall(pattern, html, re.DOTALL)\n",
    "\n",
    "print(\"HTML comments found:\")\n",
    "for match in matches:\n",
    "    print(match)\n"
   ]
  },
  {
   "cell_type": "markdown",
   "id": "480c63a4",
   "metadata": {},
   "source": [
    "# Regex 5"
   ]
  },
  {
   "cell_type": "code",
   "execution_count": 49,
   "id": "afd34da2",
   "metadata": {},
   "outputs": [
    {
     "name": "stdout",
     "output_type": "stream",
     "text": [
      "Hexadecimal Color Codes found:\n",
      "#00BFFF\n",
      "#FFA500\n"
     ]
    }
   ],
   "source": [
    "#It extracts hexadecimal color codes\n",
    "import re\n",
    "\n",
    "text = \"The color of the sky is #00BFFF and the sun is #FFA500.\"\n",
    "\n",
    "pattern = r'#(?:[0-9a-fA-F]{3}){1,2}'\n",
    "\n",
    "matches = re.findall(pattern, text)\n",
    "\n",
    "print(\"Hexadecimal Color Codes found:\")\n",
    "for match in matches:\n",
    "    print(match)\n"
   ]
  },
  {
   "cell_type": "code",
   "execution_count": null,
   "id": "4c1bf4cf",
   "metadata": {},
   "outputs": [],
   "source": []
  }
 ],
 "metadata": {
  "kernelspec": {
   "display_name": "Python 3 (ipykernel)",
   "language": "python",
   "name": "python3"
  },
  "language_info": {
   "codemirror_mode": {
    "name": "ipython",
    "version": 3
   },
   "file_extension": ".py",
   "mimetype": "text/x-python",
   "name": "python",
   "nbconvert_exporter": "python",
   "pygments_lexer": "ipython3",
   "version": "3.11.5"
  }
 },
 "nbformat": 4,
 "nbformat_minor": 5
}
